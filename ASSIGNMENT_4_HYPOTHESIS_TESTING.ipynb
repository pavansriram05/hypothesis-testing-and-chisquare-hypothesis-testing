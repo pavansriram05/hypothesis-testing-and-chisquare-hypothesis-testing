{
  "nbformat": 4,
  "nbformat_minor": 0,
  "metadata": {
    "colab": {
      "provenance": []
    },
    "kernelspec": {
      "name": "python3",
      "display_name": "Python 3"
    },
    "language_info": {
      "name": "python"
    }
  },
  "cells": [
    {
      "cell_type": "markdown",
      "source": [
        "#HYPOTHESIS TESTING"
      ],
      "metadata": {
        "id": "LeKJOKEokiGq"
      }
    },
    {
      "cell_type": "code",
      "execution_count": 4,
      "metadata": {
        "id": "8ZzDmBtpbFD-"
      },
      "outputs": [],
      "source": [
        "#LIBRARIES NEEDED\n",
        "import numpy as np\n",
        "import pandas as pd\n",
        "from scipy import stats as sts\n",
        "import warnings\n",
        "warnings.filterwarnings(\"ignore\") #just to ignore any warnings"
      ]
    },
    {
      "cell_type": "markdown",
      "source": [
        "In hypothesis tetsing we have two kinds of hypothesis statements\n",
        "-  Null Hypothesis(H0) : when there is no significant difference between the old process and the newly implemented method\n",
        "                    μA=μB  OR μA>=μB\n",
        "- Alternative Hypothesis(Ha) : when there is a significant difference between the old process and newly implemented process\n",
        "                    μA!=μB  OR μA<μB"
      ],
      "metadata": {
        "id": "82jHy4lbcL6N"
      }
    },
    {
      "cell_type": "markdown",
      "source": [
        "#FOR THE GIVEN CASE STUDY, LETS ASSUME THE HYPOTHESIS STATEMENTS"
      ],
      "metadata": {
        "id": "oZFKL-P9ddEB"
      }
    },
    {
      "cell_type": "markdown",
      "source": [
        "#1)State the Hypotheses statement\n",
        "Null Hypothesis(H0) : The mean weekly operating cost is equal to the theoretical mean weekly cost according to the cost model.\n",
        "- H0: μ = 1000+5*600 = 4000\n",
        "\n",
        "Alternative Hypothesis(Ha) :The mean weekly operating cost is higher than the theoretical mean weekly cost according to the cost model.\n",
        "- Ha: μ > 4000"
      ],
      "metadata": {
        "id": "UYoctdxOdnb-"
      }
    },
    {
      "cell_type": "markdown",
      "source": [
        "#2)Calculate the Test Statistic:\n",
        "Given\n",
        "- sample mean (x) = 3050\n",
        "- theoritical mean(μ) = 4000\n",
        "- standard deviation = 5*25=125\n",
        "- sample size (n) = 25"
      ],
      "metadata": {
        "id": "pTrUwP_1faWs"
      }
    },
    {
      "cell_type": "code",
      "source": [
        "# calculating the t test values as the smaple size is big enough we can use any test method, here we are using t test\n",
        "#lets define the values and use them in the know formula of t test\n",
        "\n",
        "x=3050\n",
        "mu=4000\n",
        "sigma=125\n",
        "n=25\n",
        "\n",
        "tts=(x-mu)/((sigma/n**0.5))\n",
        "print(tts)"
      ],
      "metadata": {
        "colab": {
          "base_uri": "https://localhost:8080/"
        },
        "id": "sz2ZKY3zegh4",
        "outputId": "d756bc20-b3bc-4a10-c2f5-d45a710f4efb"
      },
      "execution_count": 2,
      "outputs": [
        {
          "output_type": "stream",
          "name": "stdout",
          "text": [
            "-38.0\n"
          ]
        }
      ]
    },
    {
      "cell_type": "markdown",
      "source": [
        "#3)Determine the Critical Value:\n",
        "For a one-tailed test at the alpha level of 5% (α = 0.05), we refer to the standard normal (Z) distribution table to find the critical value.\n",
        "\n",
        "Since it's a one-tailed test with α = 0.05:\n",
        "\n",
        "using this value of alpha level , lets calculate the probability using stats module"
      ],
      "metadata": {
        "id": "2-ArlHRLgtfN"
      }
    },
    {
      "cell_type": "code",
      "source": [
        "p=sts.t.cdf(tts,df=24)\n",
        "alpha=0.05\n",
        "p"
      ],
      "metadata": {
        "colab": {
          "base_uri": "https://localhost:8080/"
        },
        "id": "XR-HDm_fhgh8",
        "outputId": "0e7f7890-a59c-48c4-852f-ef9b4bc94aec"
      },
      "execution_count": 5,
      "outputs": [
        {
          "output_type": "execute_result",
          "data": {
            "text/plain": [
              "2.9607810808177907e-23"
            ]
          },
          "metadata": {},
          "execution_count": 5
        }
      ]
    },
    {
      "cell_type": "markdown",
      "source": [
        "#4)Make a Decision:"
      ],
      "metadata": {
        "id": "MC84nJOehuLh"
      }
    },
    {
      "cell_type": "markdown",
      "source": [
        "The cumulative probability for a t-score of -38 with 24 degrees of freedom is approximately 2.96*10^-23. This probability is extremely small, indicating that the likelihood of observing a value as extreme as -38 in a t-distribution with 24 degrees of freedom is virtually zero. This confirms that the test statistic is far beyond the critical value, providing strong evidence against the null hypothesis. ​"
      ],
      "metadata": {
        "id": "jSjlaEqPi_O6"
      }
    },
    {
      "cell_type": "code",
      "source": [
        "if p>alpha:\n",
        "  print(\"accept the null hypothesis and do not launch the program\")\n",
        "else:\n",
        "  print(\"fail to accept null hypotesis and launch the program\")\n",
        "\n",
        "# we are using the probability error and comparing it with the level of significance alpha and making a decision to collide with the theoritical explanation"
      ],
      "metadata": {
        "colab": {
          "base_uri": "https://localhost:8080/"
        },
        "id": "6NlJglGUjvRy",
        "outputId": "64fbef29-c756-499c-f847-1e219d508e25"
      },
      "execution_count": 10,
      "outputs": [
        {
          "output_type": "stream",
          "name": "stdout",
          "text": [
            "fail to accept null hypotesis and launch the program\n"
          ]
        }
      ]
    },
    {
      "cell_type": "markdown",
      "source": [
        "#5) Conclusion:\n",
        "Based on the decision in step 4, we conclude that there is strong evidence to support the restaurant owners' claim that the weekly operating costs are higher than the model suggests. The observed weekly operating costs are significantly different from the theoretical costs predicted by the model, indicating that the actual costs are higher than the model estimates."
      ],
      "metadata": {
        "id": "JmRHRP16jbq3"
      }
    },
    {
      "cell_type": "markdown",
      "source": [
        "#CHI SQUARE TESTING"
      ],
      "metadata": {
        "id": "g75xWGBgpihG"
      }
    },
    {
      "cell_type": "code",
      "source": [
        "#LIBRARIES NEEDED ARE ALREADY IMPORTED, JUST IN CASE\n",
        "\n",
        "import numpy as np\n",
        "import pandas as pd\n",
        "from scipy import stats as sts\n",
        "from scipy.stats import chi2_contingency\n",
        "import warnings\n",
        "warnings.filterwarnings(\"ignore\") #just to ignore any warnings"
      ],
      "metadata": {
        "id": "8ZrZJ-PQplTE"
      },
      "execution_count": 13,
      "outputs": []
    },
    {
      "cell_type": "markdown",
      "source": [
        "In CHI-SQUARE hypothesis testing we have two kinds of tests\n",
        "- **Chi-square test of independence**: Used to determine if there is a significant association between two categorical variables.\n",
        "- **Chi-square goodness-of-fit test**: Used to determine if a sample data matches a population with a specific distribution.\n",
        "\n",
        "As per the question, conclude that we are here going to perform the **Chi-square test of independence**\n",
        "\n",
        "\n",
        "\n",
        " hypothesis statements\n",
        "-  Null Hypothesis(H0) : this hypothesis tells that the variables are independent and have no significant association to each other\n",
        "- Alternative Hypothesis(Ha) : this hypothesis tells that the variables are dependent and have a significant association to each other"
      ],
      "metadata": {
        "id": "bYnoKZQUp61M"
      }
    },
    {
      "cell_type": "markdown",
      "source": [
        "#FOR THE GIVEN CASE STUDY, LETS ASSUME THE HYPOTHESIS STATEMENTS"
      ],
      "metadata": {
        "id": "_D8QmLk3rTSl"
      }
    },
    {
      "cell_type": "markdown",
      "source": [
        "Hypothesis Statements\n",
        "\n",
        "* Null Hypothesis(H0) : there is no significant association between the type of device purchased and the customer's satisfaction level.\n",
        "\n",
        "* Alternative Hypothesis(Ha) : there's a significant association between the type of device purchased and the customer's satisfaction level."
      ],
      "metadata": {
        "id": "Xs3pXP-ArXrt"
      }
    },
    {
      "cell_type": "code",
      "source": [
        "data=np.array([[50,70],[80,100],[60,90],[30,50],[20,50]])\n",
        "print(data)"
      ],
      "metadata": {
        "colab": {
          "base_uri": "https://localhost:8080/"
        },
        "id": "GaXbD-GZp1MA",
        "outputId": "86420b10-c844-463e-a136-c0d53ff808a9"
      },
      "execution_count": 12,
      "outputs": [
        {
          "output_type": "stream",
          "name": "stdout",
          "text": [
            "[[ 50  70]\n",
            " [ 80 100]\n",
            " [ 60  90]\n",
            " [ 30  50]\n",
            " [ 20  50]]\n"
          ]
        }
      ]
    },
    {
      "cell_type": "markdown",
      "source": [
        "#COMPUTE THE CHI-SQUARE STATISTIC VALUE"
      ],
      "metadata": {
        "id": "7k0qq3bEt9Bk"
      }
    },
    {
      "cell_type": "code",
      "source": [
        "chisq=chi2_contingency(data)\n",
        "print(chisq,\"\\n\")\n",
        "print(\"the expected table is :\", \"\\n\",\"\\n\",chisq[3])\n",
        "# using chi2_contingency we found the required information, the calculated chi square statistic value,pvalue, degrees of freedom, expected values"
      ],
      "metadata": {
        "colab": {
          "base_uri": "https://localhost:8080/"
        },
        "id": "XwU1sh1NsHTL",
        "outputId": "a36f6f83-f3b9-4f8d-ca7d-ff2f6f65e441"
      },
      "execution_count": 26,
      "outputs": [
        {
          "output_type": "stream",
          "name": "stdout",
          "text": [
            "Chi2ContingencyResult(statistic=5.638227513227513, pvalue=0.22784371130697179, dof=4, expected_freq=array([[ 48.,  72.],\n",
            "       [ 72., 108.],\n",
            "       [ 60.,  90.],\n",
            "       [ 32.,  48.],\n",
            "       [ 28.,  42.]])) \n",
            "\n",
            "the expected table is : \n",
            " \n",
            " [[ 48.  72.]\n",
            " [ 72. 108.]\n",
            " [ 60.  90.]\n",
            " [ 32.  48.]\n",
            " [ 28.  42.]]\n"
          ]
        }
      ]
    },
    {
      "cell_type": "code",
      "source": [
        "print(\"The Calculated chi2_stat:\",chisq[0])\n",
        "print(\"The Probability is:\",chisq[1])\n",
        "print(\"The Degrees of Freedom:\",chisq[2])"
      ],
      "metadata": {
        "colab": {
          "base_uri": "https://localhost:8080/"
        },
        "id": "wVaTnazjtAPh",
        "outputId": "13f88511-e389-44c0-e3ae-35232b758b31"
      },
      "execution_count": 23,
      "outputs": [
        {
          "output_type": "stream",
          "name": "stdout",
          "text": [
            "The Calculated chi2_stat: 5.638227513227513\n",
            "The Probability is: 0.22784371130697179\n",
            "The Degrees of Freedom: 4\n"
          ]
        }
      ]
    },
    {
      "cell_type": "code",
      "source": [
        "#LETS AVE PROBABILITY TO A VARIABLE SO WE CAN USE IT TO ANY OTHER COMPARISIONS\n",
        "p=chisq[1]"
      ],
      "metadata": {
        "id": "zK0CaxPIumd5"
      },
      "execution_count": 27,
      "outputs": []
    },
    {
      "cell_type": "markdown",
      "source": [
        "#DETERMINE THE CRITICAL VALUE"
      ],
      "metadata": {
        "id": "HZ-bucANuJz-"
      }
    },
    {
      "cell_type": "markdown",
      "source": [
        "the level of significance is alpha=0.05"
      ],
      "metadata": {
        "id": "qNoASrOfuXw2"
      }
    },
    {
      "cell_type": "markdown",
      "source": [
        "#MAKING A DECISION"
      ],
      "metadata": {
        "id": "MyVZzK52ug9h"
      }
    },
    {
      "cell_type": "code",
      "source": [
        "if p <= alpha:\n",
        "    print(\"Accept the Null Hypothesis.\")\n",
        "else:\n",
        "    print(\"Reject the Null Hypothesis.\")"
      ],
      "metadata": {
        "colab": {
          "base_uri": "https://localhost:8080/"
        },
        "id": "i8XuUpNft5EW",
        "outputId": "319658c2-0bb8-4c9e-b9ed-3cd2948e93b8"
      },
      "execution_count": 28,
      "outputs": [
        {
          "output_type": "stream",
          "name": "stdout",
          "text": [
            "Reject the Null Hypothesis.\n"
          ]
        }
      ]
    },
    {
      "cell_type": "markdown",
      "source": [
        "#CONCLUSIONS"
      ],
      "metadata": {
        "id": "e-HbyDydu0OX"
      }
    },
    {
      "cell_type": "code",
      "source": [
        "if p <= alpha:\n",
        "    print(\"There is no significant association between the type of device purchased and the customer's satisfaction level.\")\n",
        "else:\n",
        "    print(\"There is a significant association between the type of device purchased and the customer's satisfaction level.\")"
      ],
      "metadata": {
        "colab": {
          "base_uri": "https://localhost:8080/"
        },
        "id": "HTw-uZXSu3ch",
        "outputId": "d9ab16a7-1b08-426c-b7af-2db7b9fd2b62"
      },
      "execution_count": 30,
      "outputs": [
        {
          "output_type": "stream",
          "name": "stdout",
          "text": [
            "There is a significant association between the type of device purchased and the customer's satisfaction level.\n"
          ]
        }
      ]
    }
  ]
}